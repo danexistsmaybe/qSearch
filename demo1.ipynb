{
 "cells": [
  {
   "cell_type": "markdown",
   "metadata": {},
   "source": [
    "# Grover's Algorithm, First Demo\n",
    "Daniel Evans"
   ]
  },
  {
   "cell_type": "code",
   "execution_count": 69,
   "metadata": {},
   "outputs": [],
   "source": [
    "# imports\n",
    "from qiskit_ibm_runtime import QiskitRuntimeService\n",
    "\n",
    "from qiskit import QuantumCircuit,transpile,assemble\n",
    "from qiskit.circuit.library import MCXGate\n",
    "from qiskit.quantum_info import SparsePauliOp\n",
    "from qiskit.transpiler.preset_passmanagers import generate_preset_pass_manager\n",
    "from qiskit_ibm_runtime import EstimatorV2 as Estimator\n",
    "\n",
    "from qiskit_aer import Aer\n",
    "\n",
    "import numpy as np"
   ]
  },
  {
   "cell_type": "code",
   "execution_count": 70,
   "metadata": {},
   "outputs": [],
   "source": [
    "U = np.array([\n",
    "\t[1,0,0,0,0,0,0,0],\n",
    "\t[0,1,0,0,0,0,0,0],\n",
    "\t[0,0,1,0,0,0,0,0],\n",
    "\t[0,0,0,-1,0,0,0,0],\n",
    "\t[0,0,0,0,1,0,0,0],\n",
    "\t[0,0,0,0,0,1,0,0],\n",
    "\t[0,0,0,0,0,0,1,0],\n",
    "\t[0,0,0,0,0,0,0,1],\n",
    "])"
   ]
  },
  {
   "cell_type": "code",
   "execution_count": 71,
   "metadata": {},
   "outputs": [
    {
     "data": {
      "text/html": [
       "<pre style=\"word-wrap: normal;white-space: pre;background: #fff0;line-height: 1.1;font-family: &quot;Courier New&quot;,Courier,monospace\">        ┌───┐┌────┐┌───┐┌───┐          ┌───┐┌───┐     ┌────┐┌───┐┌───┐     »\n",
       "   q_0: ┤ H ├┤0   ├┤ H ├┤ X ├───────■──┤ X ├┤ H ├─────┤0   ├┤ H ├┤ X ├─────»\n",
       "        ├───┤│    │├───┤├───┤       │  ├───┤├───┤     │    │├───┤├───┤     »\n",
       "   q_1: ┤ H ├┤1 ? ├┤ H ├┤ X ├───────■──┤ X ├┤ H ├─────┤1 ? ├┤ H ├┤ X ├─────»\n",
       "        ├───┤│    │├───┤├───┤┌───┐┌─┴─┐├───┤├───┤┌───┐│    │├───┤├───┤┌───┐»\n",
       "   q_2: ┤ H ├┤2   ├┤ H ├┤ X ├┤ H ├┤ X ├┤ H ├┤ X ├┤ H ├┤2   ├┤ H ├┤ X ├┤ H ├»\n",
       "        └───┘└────┘└───┘└───┘└───┘└───┘└───┘└───┘└───┘└────┘└───┘└───┘└───┘»\n",
       "meas: 3/═══════════════════════════════════════════════════════════════════»\n",
       "                                                                           »\n",
       "«             ┌───┐┌───┐      ░ ┌─┐      \n",
       "«   q_0: ──■──┤ X ├┤ H ├──────░─┤M├──────\n",
       "«          │  ├───┤├───┤      ░ └╥┘┌─┐   \n",
       "«   q_1: ──■──┤ X ├┤ H ├──────░──╫─┤M├───\n",
       "«        ┌─┴─┐├───┤├───┤┌───┐ ░  ║ └╥┘┌─┐\n",
       "«   q_2: ┤ X ├┤ H ├┤ X ├┤ H ├─░──╫──╫─┤M├\n",
       "«        └───┘└───┘└───┘└───┘ ░  ║  ║ └╥┘\n",
       "«meas: 3/════════════════════════╩══╩══╩═\n",
       "«                                0  1  2 </pre>"
      ],
      "text/plain": [
       "        ┌───┐┌────┐┌───┐┌───┐          ┌───┐┌───┐     ┌────┐┌───┐┌───┐     »\n",
       "   q_0: ┤ H ├┤0   ├┤ H ├┤ X ├───────■──┤ X ├┤ H ├─────┤0   ├┤ H ├┤ X ├─────»\n",
       "        ├───┤│    │├───┤├───┤       │  ├───┤├───┤     │    │├───┤├───┤     »\n",
       "   q_1: ┤ H ├┤1 ? ├┤ H ├┤ X ├───────■──┤ X ├┤ H ├─────┤1 ? ├┤ H ├┤ X ├─────»\n",
       "        ├───┤│    │├───┤├───┤┌───┐┌─┴─┐├───┤├───┤┌───┐│    │├───┤├───┤┌───┐»\n",
       "   q_2: ┤ H ├┤2   ├┤ H ├┤ X ├┤ H ├┤ X ├┤ H ├┤ X ├┤ H ├┤2   ├┤ H ├┤ X ├┤ H ├»\n",
       "        └───┘└────┘└───┘└───┘└───┘└───┘└───┘└───┘└───┘└────┘└───┘└───┘└───┘»\n",
       "meas: 3/═══════════════════════════════════════════════════════════════════»\n",
       "                                                                           »\n",
       "«             ┌───┐┌───┐      ░ ┌─┐      \n",
       "«   q_0: ──■──┤ X ├┤ H ├──────░─┤M├──────\n",
       "«          │  ├───┤├───┤      ░ └╥┘┌─┐   \n",
       "«   q_1: ──■──┤ X ├┤ H ├──────░──╫─┤M├───\n",
       "«        ┌─┴─┐├───┤├───┤┌───┐ ░  ║ └╥┘┌─┐\n",
       "«   q_2: ┤ X ├┤ H ├┤ X ├┤ H ├─░──╫──╫─┤M├\n",
       "«        └───┘└───┘└───┘└───┘ ░  ║  ║ └╥┘\n",
       "«meas: 3/════════════════════════╩══╩══╩═\n",
       "«                                0  1  2 "
      ]
     },
     "execution_count": 71,
     "metadata": {},
     "output_type": "execute_result"
    }
   ],
   "source": [
    "circuit = QuantumCircuit(3)\n",
    "#circuit.draw()\n",
    "\n",
    "circuit.h([0,1,2])\n",
    "#circuit.draw()\n",
    "\n",
    "# - ITERATE ORACLE AND DIFFUSION -\n",
    "for i in range(2):\n",
    "\tcircuit.unitary(U,[0,1,2],\"?\")\n",
    "\t#circuit.cz(1,2)\n",
    "\tcircuit.draw()\n",
    "\t#circuit.decompose().draw()\n",
    "\n",
    "\tcircuit.h([0,1,2])\n",
    "\tcircuit.x([0,1,2])\n",
    "\n",
    "\t# multi-controlled z gate or smthn ?????\n",
    "\tcircuit.h(2)\n",
    "\tcircuit.append(MCXGate(2),[0,1,2])  # multi-controlled-toffoli\n",
    "\tcircuit.h(2)\n",
    "\n",
    "\tcircuit.x([0,1,2])\n",
    "\tcircuit.h([0,1,2])\n",
    "\n",
    "\n",
    "circuit.measure_all()\n",
    "circuit.draw()"
   ]
  },
  {
   "cell_type": "code",
   "execution_count": 72,
   "metadata": {},
   "outputs": [
    {
     "name": "stdout",
     "output_type": "stream",
     "text": [
      "{'011': 969, '000': 8, '101': 10, '001': 7, '110': 8, '111': 13, '100': 5, '010': 4}\n"
     ]
    }
   ],
   "source": [
    "# Simulating\n",
    "sim = Aer.get_backend('qasm_simulator')\n",
    "transpiled_circuit = transpile(circuit, sim)\n",
    "results = sim.run(transpiled_circuit).result()\n",
    "counts = results.get_counts()\n",
    "print(counts)"
   ]
  },
  {
   "cell_type": "code",
   "execution_count": 73,
   "metadata": {},
   "outputs": [
    {
     "name": "stdout",
     "output_type": "stream",
     "text": [
      "Optimizing...\n"
     ]
    },
    {
     "name": "stderr",
     "output_type": "stream",
     "text": [
      "C:\\Users\\danev\\AppData\\Local\\Temp\\ipykernel_34116\\290281285.py:11: DeprecationWarning: backend.run() and related sessions methods are deprecated  as of qiskit-ibm-runtime 0.23 and will be removed no sooner than 6 months after the release date. More details can be found in the primitives migration guide https://docs.quantum.ibm.com/migration-guides/qiskit-runtime.\n",
      "  job = backend.run(transpiledcircuit,shots=5000)\n"
     ]
    },
    {
     "name": "stdout",
     "output_type": "stream",
     "text": [
      ">>> Job ID: cw2krkarxqkg008e66zg\n"
     ]
    }
   ],
   "source": [
    "token_ = open(\"../../token.txt\",'r',encoding='utf-16').read()\n",
    "service = QiskitRuntimeService(channel=\"ibm_quantum\", token=token_)\n",
    " \n",
    "backend = service.least_busy(simulator=False, operational=True)\n",
    " \n",
    "print(\"Optimizing...\")\n",
    "# Convert to an ISA circuit and layout-mapped observables.\n",
    "transpiledcircuit = transpile(circuit, backend)\n",
    " \n",
    "# One pub, with one circuit to run against five different observables.\n",
    "job = backend.run(transpiledcircuit,shots=5000)\n",
    " \n",
    "# Use the job ID to retrieve your job data later\n",
    "print(f\">>> Job ID: {job.job_id()}\")"
   ]
  },
  {
   "cell_type": "code",
   "execution_count": 67,
   "metadata": {},
   "outputs": [],
   "source": [
    "job = service.job(\"cw2a85r54nq0008x8vrg\")\n",
    "job.cancel()"
   ]
  }
 ],
 "metadata": {
  "kernelspec": {
   "display_name": "Quantum",
   "language": "python",
   "name": "python3"
  },
  "language_info": {
   "codemirror_mode": {
    "name": "ipython",
    "version": 3
   },
   "file_extension": ".py",
   "mimetype": "text/x-python",
   "name": "python",
   "nbconvert_exporter": "python",
   "pygments_lexer": "ipython3",
   "version": "3.12.4"
  }
 },
 "nbformat": 4,
 "nbformat_minor": 2
}
